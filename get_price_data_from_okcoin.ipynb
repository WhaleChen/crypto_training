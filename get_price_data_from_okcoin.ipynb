{
 "cells": [
  {
   "cell_type": "markdown",
   "metadata": {},
   "source": [
    "## 从OKcoin api上获得bitcoin交易的所有日线数据"
   ]
  },
  {
   "cell_type": "code",
   "execution_count": 6,
   "metadata": {
    "collapsed": true
   },
   "outputs": [],
   "source": [
    "import pandas as pd\n",
    "import requests\n"
   ]
  },
  {
   "cell_type": "code",
   "execution_count": 2,
   "metadata": {
    "collapsed": true
   },
   "outputs": [],
   "source": [
    "# 从okcoin api获取数据\n",
    "# 参考: https://www.okcoin.cn/rest_api.html#spapi \n",
    "# 其中 since参数不能用，那我就不得不把所有日线数据获得下来了\n",
    "\n",
    "u = \"https://www.okcoin.cn/api/v1/kline.do?symbol=btc_cny&type=1day\"\n",
    "r = requests.get(u)\n",
    "results = r.text.strip('[[]]').split('],[')\n",
    "std_results = list()\n",
    "for item in results:\n",
    "    std_results.append(item.split(\",\"))"
   ]
  },
  {
   "cell_type": "code",
   "execution_count": 52,
   "metadata": {
    "collapsed": false,
    "scrolled": true
   },
   "outputs": [
    {
     "data": {
      "text/html": [
       "<div>\n",
       "<table border=\"1\" class=\"dataframe\">\n",
       "  <thead>\n",
       "    <tr style=\"text-align: right;\">\n",
       "      <th></th>\n",
       "      <th>timestamp</th>\n",
       "      <th>open</th>\n",
       "      <th>high</th>\n",
       "      <th>low</th>\n",
       "      <th>close</th>\n",
       "      <th>volume</th>\n",
       "    </tr>\n",
       "  </thead>\n",
       "  <tbody>\n",
       "    <tr>\n",
       "      <th>0</th>\n",
       "      <td>1370966400000</td>\n",
       "      <td>680.0</td>\n",
       "      <td>680.0</td>\n",
       "      <td>680.0</td>\n",
       "      <td>680.0</td>\n",
       "      <td>0.005</td>\n",
       "    </tr>\n",
       "    <tr>\n",
       "      <th>1</th>\n",
       "      <td>1371052800000</td>\n",
       "      <td>680.0</td>\n",
       "      <td>680.0</td>\n",
       "      <td>669.0</td>\n",
       "      <td>670.0</td>\n",
       "      <td>0.006</td>\n",
       "    </tr>\n",
       "    <tr>\n",
       "      <th>2</th>\n",
       "      <td>1371139200000</td>\n",
       "      <td>680.0</td>\n",
       "      <td>680.0</td>\n",
       "      <td>675.0</td>\n",
       "      <td>675.0</td>\n",
       "      <td>0.07</td>\n",
       "    </tr>\n",
       "    <tr>\n",
       "      <th>3</th>\n",
       "      <td>1371571200000</td>\n",
       "      <td>673.75</td>\n",
       "      <td>673.75</td>\n",
       "      <td>665.95</td>\n",
       "      <td>668.85</td>\n",
       "      <td>10.26299995</td>\n",
       "    </tr>\n",
       "    <tr>\n",
       "      <th>4</th>\n",
       "      <td>1371657600000</td>\n",
       "      <td>671.6</td>\n",
       "      <td>675.06</td>\n",
       "      <td>656.36</td>\n",
       "      <td>674.57</td>\n",
       "      <td>45.17199976</td>\n",
       "    </tr>\n",
       "  </tbody>\n",
       "</table>\n",
       "</div>"
      ],
      "text/plain": [
       "       timestamp    open    high     low   close       volume\n",
       "0  1370966400000   680.0   680.0   680.0   680.0        0.005\n",
       "1  1371052800000   680.0   680.0   669.0   670.0        0.006\n",
       "2  1371139200000   680.0   680.0   675.0   675.0         0.07\n",
       "3  1371571200000  673.75  673.75  665.95  668.85  10.26299995\n",
       "4  1371657600000   671.6  675.06  656.36  674.57  45.17199976"
      ]
     },
     "execution_count": 52,
     "metadata": {},
     "output_type": "execute_result"
    }
   ],
   "source": [
    "df = pd.DataFrame(st_results,columns = ['timestamp','open','high','low','close','volume']);df.head()"
   ]
  },
  {
   "cell_type": "code",
   "execution_count": 78,
   "metadata": {
    "collapsed": false
   },
   "outputs": [],
   "source": [
    "# 转换一下类型\n",
    "df['timestamp'] = df['timestamp'].astype(int)\n",
    "df[[\"open\",\"high\",\"low\",\"close\",\"volume\"]] = df[[\"open\",\"high\",\"low\",\"close\",\"volume\"]].astype(float)"
   ]
  },
  {
   "cell_type": "markdown",
   "metadata": {},
   "source": [
    "## 处理一下时间戳"
   ]
  },
  {
   "cell_type": "code",
   "execution_count": 56,
   "metadata": {
    "collapsed": false
   },
   "outputs": [],
   "source": [
    "# 这里okcoin 在timestamp上 有一些特别 ，每一个timestamp 多三个零，是ms级别的，我这里处理一下。\n",
    "df['timestamp'] = df['timestamp']/1000"
   ]
  },
  {
   "cell_type": "code",
   "execution_count": 58,
   "metadata": {
    "collapsed": false
   },
   "outputs": [
    {
     "data": {
      "text/plain": [
       "datetime.datetime(2013, 6, 12, 0, 0)"
      ]
     },
     "execution_count": 58,
     "metadata": {},
     "output_type": "execute_result"
    }
   ],
   "source": [
    "from datetime import datetime\n",
    "datetime.fromtimestamp(df.ix[0,0])"
   ]
  },
  {
   "cell_type": "code",
   "execution_count": 61,
   "metadata": {
    "collapsed": true
   },
   "outputs": [],
   "source": [
    "df['date'] = df['timestamp'].apply(lambda x: datetime.fromtimestamp(x))"
   ]
  },
  {
   "cell_type": "markdown",
   "metadata": {},
   "source": [
    "### 结果"
   ]
  },
  {
   "cell_type": "code",
   "execution_count": 80,
   "metadata": {
    "collapsed": false
   },
   "outputs": [
    {
     "data": {
      "text/html": [
       "<div>\n",
       "<table border=\"1\" class=\"dataframe\">\n",
       "  <thead>\n",
       "    <tr style=\"text-align: right;\">\n",
       "      <th></th>\n",
       "      <th>timestamp</th>\n",
       "      <th>open</th>\n",
       "      <th>high</th>\n",
       "      <th>low</th>\n",
       "      <th>close</th>\n",
       "      <th>volume</th>\n",
       "      <th>date</th>\n",
       "    </tr>\n",
       "  </thead>\n",
       "  <tbody>\n",
       "    <tr>\n",
       "      <th>0</th>\n",
       "      <td>1.370966e+09</td>\n",
       "      <td>680.00</td>\n",
       "      <td>680.00</td>\n",
       "      <td>680.00</td>\n",
       "      <td>680.00</td>\n",
       "      <td>0.005</td>\n",
       "      <td>2013-06-12</td>\n",
       "    </tr>\n",
       "    <tr>\n",
       "      <th>1</th>\n",
       "      <td>1.371053e+09</td>\n",
       "      <td>680.00</td>\n",
       "      <td>680.00</td>\n",
       "      <td>669.00</td>\n",
       "      <td>670.00</td>\n",
       "      <td>0.006</td>\n",
       "      <td>2013-06-13</td>\n",
       "    </tr>\n",
       "    <tr>\n",
       "      <th>2</th>\n",
       "      <td>1.371139e+09</td>\n",
       "      <td>680.00</td>\n",
       "      <td>680.00</td>\n",
       "      <td>675.00</td>\n",
       "      <td>675.00</td>\n",
       "      <td>0.070</td>\n",
       "      <td>2013-06-14</td>\n",
       "    </tr>\n",
       "    <tr>\n",
       "      <th>3</th>\n",
       "      <td>1.371571e+09</td>\n",
       "      <td>673.75</td>\n",
       "      <td>673.75</td>\n",
       "      <td>665.95</td>\n",
       "      <td>668.85</td>\n",
       "      <td>10.263</td>\n",
       "      <td>2013-06-19</td>\n",
       "    </tr>\n",
       "    <tr>\n",
       "      <th>4</th>\n",
       "      <td>1.371658e+09</td>\n",
       "      <td>671.60</td>\n",
       "      <td>675.06</td>\n",
       "      <td>656.36</td>\n",
       "      <td>674.57</td>\n",
       "      <td>45.172</td>\n",
       "      <td>2013-06-20</td>\n",
       "    </tr>\n",
       "  </tbody>\n",
       "</table>\n",
       "</div>"
      ],
      "text/plain": [
       "      timestamp    open    high     low   close  volume       date\n",
       "0  1.370966e+09  680.00  680.00  680.00  680.00   0.005 2013-06-12\n",
       "1  1.371053e+09  680.00  680.00  669.00  670.00   0.006 2013-06-13\n",
       "2  1.371139e+09  680.00  680.00  675.00  675.00   0.070 2013-06-14\n",
       "3  1.371571e+09  673.75  673.75  665.95  668.85  10.263 2013-06-19\n",
       "4  1.371658e+09  671.60  675.06  656.36  674.57  45.172 2013-06-20"
      ]
     },
     "execution_count": 80,
     "metadata": {},
     "output_type": "execute_result"
    }
   ],
   "source": [
    "df.head()"
   ]
  },
  {
   "cell_type": "markdown",
   "metadata": {},
   "source": [
    "### 如果你需要转为 excel，用万能的 excel处理，也可以，直接下载就行"
   ]
  },
  {
   "cell_type": "code",
   "execution_count": 81,
   "metadata": {
    "collapsed": true
   },
   "outputs": [],
   "source": [
    "# 输出 excel\n",
    "df.to_excel('okcoin_historical_price.xlsx', sheet_name='Sheet1')"
   ]
  }
 ],
 "metadata": {
  "kernelspec": {
   "display_name": "Python 3",
   "language": "python",
   "name": "python3"
  },
  "language_info": {
   "codemirror_mode": {
    "name": "ipython",
    "version": 3
   },
   "file_extension": ".py",
   "mimetype": "text/x-python",
   "name": "python",
   "nbconvert_exporter": "python",
   "pygments_lexer": "ipython3",
   "version": "3.5.2"
  }
 },
 "nbformat": 4,
 "nbformat_minor": 2
}
